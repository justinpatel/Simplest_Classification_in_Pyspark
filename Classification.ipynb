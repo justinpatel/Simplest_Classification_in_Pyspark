{
 "cells": [
  {
   "cell_type": "markdown",
   "id": "9bdc4003",
   "metadata": {},
   "source": [
    "### Data Loading"
   ]
  },
  {
   "cell_type": "code",
   "execution_count": 1,
   "id": "c92341e5",
   "metadata": {},
   "outputs": [],
   "source": [
    "iris_df = spark.read.csv(\"/home/justin/Downloads/iris.data\"\n",
    ", header=False, inferSchema = True)"
   ]
  },
  {
   "cell_type": "code",
   "execution_count": 4,
   "id": "669c4222",
   "metadata": {},
   "outputs": [
    {
     "name": "stdout",
     "output_type": "stream",
     "text": [
      "+------------+-----------+------------+-----------+-----------+\n",
      "|sepal_length|sepal_width|petal_length|petal_width|    species|\n",
      "+------------+-----------+------------+-----------+-----------+\n",
      "|         5.1|        3.5|         1.4|        0.2|Iris-setosa|\n",
      "|         4.9|        3.0|         1.4|        0.2|Iris-setosa|\n",
      "|         4.7|        3.2|         1.3|        0.2|Iris-setosa|\n",
      "|         4.6|        3.1|         1.5|        0.2|Iris-setosa|\n",
      "|         5.0|        3.6|         1.4|        0.2|Iris-setosa|\n",
      "|         5.4|        3.9|         1.7|        0.4|Iris-setosa|\n",
      "|         4.6|        3.4|         1.4|        0.3|Iris-setosa|\n",
      "|         5.0|        3.4|         1.5|        0.2|Iris-setosa|\n",
      "|         4.4|        2.9|         1.4|        0.2|Iris-setosa|\n",
      "|         4.9|        3.1|         1.5|        0.1|Iris-setosa|\n",
      "|         5.4|        3.7|         1.5|        0.2|Iris-setosa|\n",
      "|         4.8|        3.4|         1.6|        0.2|Iris-setosa|\n",
      "|         4.8|        3.0|         1.4|        0.1|Iris-setosa|\n",
      "|         4.3|        3.0|         1.1|        0.1|Iris-setosa|\n",
      "|         5.8|        4.0|         1.2|        0.2|Iris-setosa|\n",
      "|         5.7|        4.4|         1.5|        0.4|Iris-setosa|\n",
      "|         5.4|        3.9|         1.3|        0.4|Iris-setosa|\n",
      "|         5.1|        3.5|         1.4|        0.3|Iris-setosa|\n",
      "|         5.7|        3.8|         1.7|        0.3|Iris-setosa|\n",
      "|         5.1|        3.8|         1.5|        0.3|Iris-setosa|\n",
      "+------------+-----------+------------+-----------+-----------+\n",
      "only showing top 20 rows\n",
      "\n"
     ]
    }
   ],
   "source": [
    "iris_df.show()"
   ]
  },
  {
   "cell_type": "code",
   "execution_count": 3,
   "id": "aee9d4fd",
   "metadata": {},
   "outputs": [],
   "source": [
    "from pyspark.sql.functions import *\n",
    "\n",
    "iris_df = iris_df.select(col('_c0').alias('sepal_length'), \n",
    "                        col('_c1').alias('sepal_width'),\n",
    "                        col('_c2').alias('petal_length'),\n",
    "                        col('_c3').alias('petal_width'),\n",
    "                        col('_c4').alias('species'))"
   ]
  },
  {
   "cell_type": "markdown",
   "id": "b76e9429",
   "metadata": {},
   "source": [
    "### create feature column"
   ]
  },
  {
   "cell_type": "code",
   "execution_count": 6,
   "id": "37e38c6b",
   "metadata": {},
   "outputs": [],
   "source": [
    "from pyspark.ml.feature import VectorAssembler\n",
    "\n",
    "viris_df = VectorAssembler(inputCols = ['sepal_length', 'sepal_width', 'petal_length', 'petal_width'], outputCol = 'features').transform(iris_df)\n",
    "\n"
   ]
  },
  {
   "cell_type": "code",
   "execution_count": 7,
   "id": "b15cff2b",
   "metadata": {},
   "outputs": [
    {
     "name": "stdout",
     "output_type": "stream",
     "text": [
      "+------------+-----------+------------+-----------+-----------+-----------------+\n",
      "|sepal_length|sepal_width|petal_length|petal_width|    species|         features|\n",
      "+------------+-----------+------------+-----------+-----------+-----------------+\n",
      "|         5.1|        3.5|         1.4|        0.2|Iris-setosa|[5.1,3.5,1.4,0.2]|\n",
      "|         4.9|        3.0|         1.4|        0.2|Iris-setosa|[4.9,3.0,1.4,0.2]|\n",
      "|         4.7|        3.2|         1.3|        0.2|Iris-setosa|[4.7,3.2,1.3,0.2]|\n",
      "|         4.6|        3.1|         1.5|        0.2|Iris-setosa|[4.6,3.1,1.5,0.2]|\n",
      "|         5.0|        3.6|         1.4|        0.2|Iris-setosa|[5.0,3.6,1.4,0.2]|\n",
      "|         5.4|        3.9|         1.7|        0.4|Iris-setosa|[5.4,3.9,1.7,0.4]|\n",
      "|         4.6|        3.4|         1.4|        0.3|Iris-setosa|[4.6,3.4,1.4,0.3]|\n",
      "|         5.0|        3.4|         1.5|        0.2|Iris-setosa|[5.0,3.4,1.5,0.2]|\n",
      "|         4.4|        2.9|         1.4|        0.2|Iris-setosa|[4.4,2.9,1.4,0.2]|\n",
      "|         4.9|        3.1|         1.5|        0.1|Iris-setosa|[4.9,3.1,1.5,0.1]|\n",
      "|         5.4|        3.7|         1.5|        0.2|Iris-setosa|[5.4,3.7,1.5,0.2]|\n",
      "|         4.8|        3.4|         1.6|        0.2|Iris-setosa|[4.8,3.4,1.6,0.2]|\n",
      "|         4.8|        3.0|         1.4|        0.1|Iris-setosa|[4.8,3.0,1.4,0.1]|\n",
      "|         4.3|        3.0|         1.1|        0.1|Iris-setosa|[4.3,3.0,1.1,0.1]|\n",
      "|         5.8|        4.0|         1.2|        0.2|Iris-setosa|[5.8,4.0,1.2,0.2]|\n",
      "|         5.7|        4.4|         1.5|        0.4|Iris-setosa|[5.7,4.4,1.5,0.4]|\n",
      "|         5.4|        3.9|         1.3|        0.4|Iris-setosa|[5.4,3.9,1.3,0.4]|\n",
      "|         5.1|        3.5|         1.4|        0.3|Iris-setosa|[5.1,3.5,1.4,0.3]|\n",
      "|         5.7|        3.8|         1.7|        0.3|Iris-setosa|[5.7,3.8,1.7,0.3]|\n",
      "|         5.1|        3.8|         1.5|        0.3|Iris-setosa|[5.1,3.8,1.5,0.3]|\n",
      "+------------+-----------+------------+-----------+-----------+-----------------+\n",
      "only showing top 20 rows\n",
      "\n"
     ]
    }
   ],
   "source": [
    "viris_df.show()"
   ]
  },
  {
   "cell_type": "markdown",
   "id": "71d72b22",
   "metadata": {},
   "source": [
    "### convert species names into index names label"
   ]
  },
  {
   "cell_type": "code",
   "execution_count": 15,
   "id": "2a81542a",
   "metadata": {},
   "outputs": [],
   "source": [
    "from pyspark.ml.feature import StringIndexer\n",
    "\n",
    "iviris_df = StringIndexer(inputCol = 'species', outputCol = 'label').fit(viris_df).transform(viris_df)"
   ]
  },
  {
   "cell_type": "code",
   "execution_count": 16,
   "id": "4f0e09aa",
   "metadata": {},
   "outputs": [
    {
     "name": "stdout",
     "output_type": "stream",
     "text": [
      "+------------+-----------+------------+-----------+---------------+-----------------+-----+\n",
      "|sepal_length|sepal_width|petal_length|petal_width|        species|         features|label|\n",
      "+------------+-----------+------------+-----------+---------------+-----------------+-----+\n",
      "|         5.1|        3.5|         1.4|        0.2|    Iris-setosa|[5.1,3.5,1.4,0.2]|  0.0|\n",
      "|         4.9|        3.0|         1.4|        0.2|    Iris-setosa|[4.9,3.0,1.4,0.2]|  0.0|\n",
      "|         4.7|        3.2|         1.3|        0.2|    Iris-setosa|[4.7,3.2,1.3,0.2]|  0.0|\n",
      "|         4.6|        3.1|         1.5|        0.2|    Iris-setosa|[4.6,3.1,1.5,0.2]|  0.0|\n",
      "|         5.0|        3.6|         1.4|        0.2|    Iris-setosa|[5.0,3.6,1.4,0.2]|  0.0|\n",
      "|         5.4|        3.9|         1.7|        0.4|    Iris-setosa|[5.4,3.9,1.7,0.4]|  0.0|\n",
      "|         4.6|        3.4|         1.4|        0.3|    Iris-setosa|[4.6,3.4,1.4,0.3]|  0.0|\n",
      "|         5.0|        3.4|         1.5|        0.2|    Iris-setosa|[5.0,3.4,1.5,0.2]|  0.0|\n",
      "|         4.4|        2.9|         1.4|        0.2|    Iris-setosa|[4.4,2.9,1.4,0.2]|  0.0|\n",
      "|         4.9|        3.1|         1.5|        0.1|    Iris-setosa|[4.9,3.1,1.5,0.1]|  0.0|\n",
      "|         5.4|        3.7|         1.5|        0.2|    Iris-setosa|[5.4,3.7,1.5,0.2]|  0.0|\n",
      "|         4.8|        3.4|         1.6|        0.2|    Iris-setosa|[4.8,3.4,1.6,0.2]|  0.0|\n",
      "|         4.8|        3.0|         1.4|        0.1|    Iris-setosa|[4.8,3.0,1.4,0.1]|  0.0|\n",
      "|         4.3|        3.0|         1.1|        0.1|    Iris-setosa|[4.3,3.0,1.1,0.1]|  0.0|\n",
      "|         5.8|        4.0|         1.2|        0.2|    Iris-setosa|[5.8,4.0,1.2,0.2]|  0.0|\n",
      "|         5.7|        4.4|         1.5|        0.4|    Iris-setosa|[5.7,4.4,1.5,0.4]|  0.0|\n",
      "|         5.4|        3.9|         1.3|        0.4|    Iris-setosa|[5.4,3.9,1.3,0.4]|  0.0|\n",
      "|         5.1|        3.5|         1.4|        0.3|    Iris-setosa|[5.1,3.5,1.4,0.3]|  0.0|\n",
      "|         5.7|        3.8|         1.7|        0.3|    Iris-setosa|[5.7,3.8,1.7,0.3]|  0.0|\n",
      "|         5.1|        3.8|         1.5|        0.3|    Iris-setosa|[5.1,3.8,1.5,0.3]|  0.0|\n",
      "|         5.4|        3.4|         1.7|        0.2|    Iris-setosa|[5.4,3.4,1.7,0.2]|  0.0|\n",
      "|         5.1|        3.7|         1.5|        0.4|    Iris-setosa|[5.1,3.7,1.5,0.4]|  0.0|\n",
      "|         4.6|        3.6|         1.0|        0.2|    Iris-setosa|[4.6,3.6,1.0,0.2]|  0.0|\n",
      "|         5.1|        3.3|         1.7|        0.5|    Iris-setosa|[5.1,3.3,1.7,0.5]|  0.0|\n",
      "|         4.8|        3.4|         1.9|        0.2|    Iris-setosa|[4.8,3.4,1.9,0.2]|  0.0|\n",
      "|         5.0|        3.0|         1.6|        0.2|    Iris-setosa|[5.0,3.0,1.6,0.2]|  0.0|\n",
      "|         5.0|        3.4|         1.6|        0.4|    Iris-setosa|[5.0,3.4,1.6,0.4]|  0.0|\n",
      "|         5.2|        3.5|         1.5|        0.2|    Iris-setosa|[5.2,3.5,1.5,0.2]|  0.0|\n",
      "|         5.2|        3.4|         1.4|        0.2|    Iris-setosa|[5.2,3.4,1.4,0.2]|  0.0|\n",
      "|         4.7|        3.2|         1.6|        0.2|    Iris-setosa|[4.7,3.2,1.6,0.2]|  0.0|\n",
      "|         4.8|        3.1|         1.6|        0.2|    Iris-setosa|[4.8,3.1,1.6,0.2]|  0.0|\n",
      "|         5.4|        3.4|         1.5|        0.4|    Iris-setosa|[5.4,3.4,1.5,0.4]|  0.0|\n",
      "|         5.2|        4.1|         1.5|        0.1|    Iris-setosa|[5.2,4.1,1.5,0.1]|  0.0|\n",
      "|         5.5|        4.2|         1.4|        0.2|    Iris-setosa|[5.5,4.2,1.4,0.2]|  0.0|\n",
      "|         4.9|        3.1|         1.5|        0.1|    Iris-setosa|[4.9,3.1,1.5,0.1]|  0.0|\n",
      "|         5.0|        3.2|         1.2|        0.2|    Iris-setosa|[5.0,3.2,1.2,0.2]|  0.0|\n",
      "|         5.5|        3.5|         1.3|        0.2|    Iris-setosa|[5.5,3.5,1.3,0.2]|  0.0|\n",
      "|         4.9|        3.1|         1.5|        0.1|    Iris-setosa|[4.9,3.1,1.5,0.1]|  0.0|\n",
      "|         4.4|        3.0|         1.3|        0.2|    Iris-setosa|[4.4,3.0,1.3,0.2]|  0.0|\n",
      "|         5.1|        3.4|         1.5|        0.2|    Iris-setosa|[5.1,3.4,1.5,0.2]|  0.0|\n",
      "|         5.0|        3.5|         1.3|        0.3|    Iris-setosa|[5.0,3.5,1.3,0.3]|  0.0|\n",
      "|         4.5|        2.3|         1.3|        0.3|    Iris-setosa|[4.5,2.3,1.3,0.3]|  0.0|\n",
      "|         4.4|        3.2|         1.3|        0.2|    Iris-setosa|[4.4,3.2,1.3,0.2]|  0.0|\n",
      "|         5.0|        3.5|         1.6|        0.6|    Iris-setosa|[5.0,3.5,1.6,0.6]|  0.0|\n",
      "|         5.1|        3.8|         1.9|        0.4|    Iris-setosa|[5.1,3.8,1.9,0.4]|  0.0|\n",
      "|         4.8|        3.0|         1.4|        0.3|    Iris-setosa|[4.8,3.0,1.4,0.3]|  0.0|\n",
      "|         5.1|        3.8|         1.6|        0.2|    Iris-setosa|[5.1,3.8,1.6,0.2]|  0.0|\n",
      "|         4.6|        3.2|         1.4|        0.2|    Iris-setosa|[4.6,3.2,1.4,0.2]|  0.0|\n",
      "|         5.3|        3.7|         1.5|        0.2|    Iris-setosa|[5.3,3.7,1.5,0.2]|  0.0|\n",
      "|         5.0|        3.3|         1.4|        0.2|    Iris-setosa|[5.0,3.3,1.4,0.2]|  0.0|\n",
      "|         7.0|        3.2|         4.7|        1.4|Iris-versicolor|[7.0,3.2,4.7,1.4]|  1.0|\n",
      "|         6.4|        3.2|         4.5|        1.5|Iris-versicolor|[6.4,3.2,4.5,1.5]|  1.0|\n",
      "|         6.9|        3.1|         4.9|        1.5|Iris-versicolor|[6.9,3.1,4.9,1.5]|  1.0|\n",
      "|         5.5|        2.3|         4.0|        1.3|Iris-versicolor|[5.5,2.3,4.0,1.3]|  1.0|\n",
      "|         6.5|        2.8|         4.6|        1.5|Iris-versicolor|[6.5,2.8,4.6,1.5]|  1.0|\n",
      "|         5.7|        2.8|         4.5|        1.3|Iris-versicolor|[5.7,2.8,4.5,1.3]|  1.0|\n",
      "|         6.3|        3.3|         4.7|        1.6|Iris-versicolor|[6.3,3.3,4.7,1.6]|  1.0|\n",
      "|         4.9|        2.4|         3.3|        1.0|Iris-versicolor|[4.9,2.4,3.3,1.0]|  1.0|\n",
      "|         6.6|        2.9|         4.6|        1.3|Iris-versicolor|[6.6,2.9,4.6,1.3]|  1.0|\n",
      "|         5.2|        2.7|         3.9|        1.4|Iris-versicolor|[5.2,2.7,3.9,1.4]|  1.0|\n",
      "|         5.0|        2.0|         3.5|        1.0|Iris-versicolor|[5.0,2.0,3.5,1.0]|  1.0|\n",
      "|         5.9|        3.0|         4.2|        1.5|Iris-versicolor|[5.9,3.0,4.2,1.5]|  1.0|\n",
      "|         6.0|        2.2|         4.0|        1.0|Iris-versicolor|[6.0,2.2,4.0,1.0]|  1.0|\n",
      "|         6.1|        2.9|         4.7|        1.4|Iris-versicolor|[6.1,2.9,4.7,1.4]|  1.0|\n",
      "|         5.6|        2.9|         3.6|        1.3|Iris-versicolor|[5.6,2.9,3.6,1.3]|  1.0|\n",
      "|         6.7|        3.1|         4.4|        1.4|Iris-versicolor|[6.7,3.1,4.4,1.4]|  1.0|\n",
      "|         5.6|        3.0|         4.5|        1.5|Iris-versicolor|[5.6,3.0,4.5,1.5]|  1.0|\n",
      "|         5.8|        2.7|         4.1|        1.0|Iris-versicolor|[5.8,2.7,4.1,1.0]|  1.0|\n",
      "|         6.2|        2.2|         4.5|        1.5|Iris-versicolor|[6.2,2.2,4.5,1.5]|  1.0|\n",
      "|         5.6|        2.5|         3.9|        1.1|Iris-versicolor|[5.6,2.5,3.9,1.1]|  1.0|\n",
      "|         5.9|        3.2|         4.8|        1.8|Iris-versicolor|[5.9,3.2,4.8,1.8]|  1.0|\n",
      "|         6.1|        2.8|         4.0|        1.3|Iris-versicolor|[6.1,2.8,4.0,1.3]|  1.0|\n",
      "|         6.3|        2.5|         4.9|        1.5|Iris-versicolor|[6.3,2.5,4.9,1.5]|  1.0|\n",
      "|         6.1|        2.8|         4.7|        1.2|Iris-versicolor|[6.1,2.8,4.7,1.2]|  1.0|\n",
      "|         6.4|        2.9|         4.3|        1.3|Iris-versicolor|[6.4,2.9,4.3,1.3]|  1.0|\n",
      "|         6.6|        3.0|         4.4|        1.4|Iris-versicolor|[6.6,3.0,4.4,1.4]|  1.0|\n",
      "|         6.8|        2.8|         4.8|        1.4|Iris-versicolor|[6.8,2.8,4.8,1.4]|  1.0|\n",
      "|         6.7|        3.0|         5.0|        1.7|Iris-versicolor|[6.7,3.0,5.0,1.7]|  1.0|\n",
      "|         6.0|        2.9|         4.5|        1.5|Iris-versicolor|[6.0,2.9,4.5,1.5]|  1.0|\n",
      "|         5.7|        2.6|         3.5|        1.0|Iris-versicolor|[5.7,2.6,3.5,1.0]|  1.0|\n",
      "|         5.5|        2.4|         3.8|        1.1|Iris-versicolor|[5.5,2.4,3.8,1.1]|  1.0|\n",
      "|         5.5|        2.4|         3.7|        1.0|Iris-versicolor|[5.5,2.4,3.7,1.0]|  1.0|\n",
      "|         5.8|        2.7|         3.9|        1.2|Iris-versicolor|[5.8,2.7,3.9,1.2]|  1.0|\n",
      "|         6.0|        2.7|         5.1|        1.6|Iris-versicolor|[6.0,2.7,5.1,1.6]|  1.0|\n",
      "|         5.4|        3.0|         4.5|        1.5|Iris-versicolor|[5.4,3.0,4.5,1.5]|  1.0|\n",
      "|         6.0|        3.4|         4.5|        1.6|Iris-versicolor|[6.0,3.4,4.5,1.6]|  1.0|\n",
      "|         6.7|        3.1|         4.7|        1.5|Iris-versicolor|[6.7,3.1,4.7,1.5]|  1.0|\n",
      "|         6.3|        2.3|         4.4|        1.3|Iris-versicolor|[6.3,2.3,4.4,1.3]|  1.0|\n",
      "|         5.6|        3.0|         4.1|        1.3|Iris-versicolor|[5.6,3.0,4.1,1.3]|  1.0|\n",
      "|         5.5|        2.5|         4.0|        1.3|Iris-versicolor|[5.5,2.5,4.0,1.3]|  1.0|\n",
      "|         5.5|        2.6|         4.4|        1.2|Iris-versicolor|[5.5,2.6,4.4,1.2]|  1.0|\n",
      "|         6.1|        3.0|         4.6|        1.4|Iris-versicolor|[6.1,3.0,4.6,1.4]|  1.0|\n",
      "|         5.8|        2.6|         4.0|        1.2|Iris-versicolor|[5.8,2.6,4.0,1.2]|  1.0|\n",
      "|         5.0|        2.3|         3.3|        1.0|Iris-versicolor|[5.0,2.3,3.3,1.0]|  1.0|\n",
      "|         5.6|        2.7|         4.2|        1.3|Iris-versicolor|[5.6,2.7,4.2,1.3]|  1.0|\n",
      "|         5.7|        3.0|         4.2|        1.2|Iris-versicolor|[5.7,3.0,4.2,1.2]|  1.0|\n",
      "|         5.7|        2.9|         4.2|        1.3|Iris-versicolor|[5.7,2.9,4.2,1.3]|  1.0|\n",
      "|         6.2|        2.9|         4.3|        1.3|Iris-versicolor|[6.2,2.9,4.3,1.3]|  1.0|\n",
      "|         5.1|        2.5|         3.0|        1.1|Iris-versicolor|[5.1,2.5,3.0,1.1]|  1.0|\n",
      "|         5.7|        2.8|         4.1|        1.3|Iris-versicolor|[5.7,2.8,4.1,1.3]|  1.0|\n",
      "|         6.3|        3.3|         6.0|        2.5| Iris-virginica|[6.3,3.3,6.0,2.5]|  2.0|\n",
      "|         5.8|        2.7|         5.1|        1.9| Iris-virginica|[5.8,2.7,5.1,1.9]|  2.0|\n",
      "|         7.1|        3.0|         5.9|        2.1| Iris-virginica|[7.1,3.0,5.9,2.1]|  2.0|\n",
      "|         6.3|        2.9|         5.6|        1.8| Iris-virginica|[6.3,2.9,5.6,1.8]|  2.0|\n",
      "|         6.5|        3.0|         5.8|        2.2| Iris-virginica|[6.5,3.0,5.8,2.2]|  2.0|\n",
      "|         7.6|        3.0|         6.6|        2.1| Iris-virginica|[7.6,3.0,6.6,2.1]|  2.0|\n",
      "|         4.9|        2.5|         4.5|        1.7| Iris-virginica|[4.9,2.5,4.5,1.7]|  2.0|\n",
      "|         7.3|        2.9|         6.3|        1.8| Iris-virginica|[7.3,2.9,6.3,1.8]|  2.0|\n",
      "|         6.7|        2.5|         5.8|        1.8| Iris-virginica|[6.7,2.5,5.8,1.8]|  2.0|\n",
      "|         7.2|        3.6|         6.1|        2.5| Iris-virginica|[7.2,3.6,6.1,2.5]|  2.0|\n",
      "|         6.5|        3.2|         5.1|        2.0| Iris-virginica|[6.5,3.2,5.1,2.0]|  2.0|\n",
      "|         6.4|        2.7|         5.3|        1.9| Iris-virginica|[6.4,2.7,5.3,1.9]|  2.0|\n",
      "|         6.8|        3.0|         5.5|        2.1| Iris-virginica|[6.8,3.0,5.5,2.1]|  2.0|\n",
      "|         5.7|        2.5|         5.0|        2.0| Iris-virginica|[5.7,2.5,5.0,2.0]|  2.0|\n",
      "|         5.8|        2.8|         5.1|        2.4| Iris-virginica|[5.8,2.8,5.1,2.4]|  2.0|\n",
      "|         6.4|        3.2|         5.3|        2.3| Iris-virginica|[6.4,3.2,5.3,2.3]|  2.0|\n",
      "|         6.5|        3.0|         5.5|        1.8| Iris-virginica|[6.5,3.0,5.5,1.8]|  2.0|\n",
      "|         7.7|        3.8|         6.7|        2.2| Iris-virginica|[7.7,3.8,6.7,2.2]|  2.0|\n",
      "|         7.7|        2.6|         6.9|        2.3| Iris-virginica|[7.7,2.6,6.9,2.3]|  2.0|\n",
      "|         6.0|        2.2|         5.0|        1.5| Iris-virginica|[6.0,2.2,5.0,1.5]|  2.0|\n",
      "|         6.9|        3.2|         5.7|        2.3| Iris-virginica|[6.9,3.2,5.7,2.3]|  2.0|\n",
      "|         5.6|        2.8|         4.9|        2.0| Iris-virginica|[5.6,2.8,4.9,2.0]|  2.0|\n",
      "|         7.7|        2.8|         6.7|        2.0| Iris-virginica|[7.7,2.8,6.7,2.0]|  2.0|\n",
      "|         6.3|        2.7|         4.9|        1.8| Iris-virginica|[6.3,2.7,4.9,1.8]|  2.0|\n",
      "|         6.7|        3.3|         5.7|        2.1| Iris-virginica|[6.7,3.3,5.7,2.1]|  2.0|\n",
      "|         7.2|        3.2|         6.0|        1.8| Iris-virginica|[7.2,3.2,6.0,1.8]|  2.0|\n",
      "|         6.2|        2.8|         4.8|        1.8| Iris-virginica|[6.2,2.8,4.8,1.8]|  2.0|\n",
      "|         6.1|        3.0|         4.9|        1.8| Iris-virginica|[6.1,3.0,4.9,1.8]|  2.0|\n",
      "|         6.4|        2.8|         5.6|        2.1| Iris-virginica|[6.4,2.8,5.6,2.1]|  2.0|\n",
      "|         7.2|        3.0|         5.8|        1.6| Iris-virginica|[7.2,3.0,5.8,1.6]|  2.0|\n",
      "|         7.4|        2.8|         6.1|        1.9| Iris-virginica|[7.4,2.8,6.1,1.9]|  2.0|\n",
      "|         7.9|        3.8|         6.4|        2.0| Iris-virginica|[7.9,3.8,6.4,2.0]|  2.0|\n",
      "|         6.4|        2.8|         5.6|        2.2| Iris-virginica|[6.4,2.8,5.6,2.2]|  2.0|\n",
      "|         6.3|        2.8|         5.1|        1.5| Iris-virginica|[6.3,2.8,5.1,1.5]|  2.0|\n",
      "|         6.1|        2.6|         5.6|        1.4| Iris-virginica|[6.1,2.6,5.6,1.4]|  2.0|\n",
      "|         7.7|        3.0|         6.1|        2.3| Iris-virginica|[7.7,3.0,6.1,2.3]|  2.0|\n",
      "|         6.3|        3.4|         5.6|        2.4| Iris-virginica|[6.3,3.4,5.6,2.4]|  2.0|\n",
      "|         6.4|        3.1|         5.5|        1.8| Iris-virginica|[6.4,3.1,5.5,1.8]|  2.0|\n",
      "|         6.0|        3.0|         4.8|        1.8| Iris-virginica|[6.0,3.0,4.8,1.8]|  2.0|\n",
      "|         6.9|        3.1|         5.4|        2.1| Iris-virginica|[6.9,3.1,5.4,2.1]|  2.0|\n",
      "|         6.7|        3.1|         5.6|        2.4| Iris-virginica|[6.7,3.1,5.6,2.4]|  2.0|\n",
      "|         6.9|        3.1|         5.1|        2.3| Iris-virginica|[6.9,3.1,5.1,2.3]|  2.0|\n",
      "|         5.8|        2.7|         5.1|        1.9| Iris-virginica|[5.8,2.7,5.1,1.9]|  2.0|\n",
      "|         6.8|        3.2|         5.9|        2.3| Iris-virginica|[6.8,3.2,5.9,2.3]|  2.0|\n",
      "|         6.7|        3.3|         5.7|        2.5| Iris-virginica|[6.7,3.3,5.7,2.5]|  2.0|\n",
      "|         6.7|        3.0|         5.2|        2.3| Iris-virginica|[6.7,3.0,5.2,2.3]|  2.0|\n",
      "|         6.3|        2.5|         5.0|        1.9| Iris-virginica|[6.3,2.5,5.0,1.9]|  2.0|\n",
      "|         6.5|        3.0|         5.2|        2.0| Iris-virginica|[6.5,3.0,5.2,2.0]|  2.0|\n",
      "|         6.2|        3.4|         5.4|        2.3| Iris-virginica|[6.2,3.4,5.4,2.3]|  2.0|\n",
      "|         5.9|        3.0|         5.1|        1.8| Iris-virginica|[5.9,3.0,5.1,1.8]|  2.0|\n",
      "+------------+-----------+------------+-----------+---------------+-----------------+-----+\n",
      "\n"
     ]
    }
   ],
   "source": [
    "iviris_df.show(300)"
   ]
  },
  {
   "cell_type": "code",
   "execution_count": 24,
   "id": "c9d768d0",
   "metadata": {},
   "outputs": [
    {
     "data": {
      "text/plain": [
       "150"
      ]
     },
     "execution_count": 24,
     "metadata": {},
     "output_type": "execute_result"
    }
   ],
   "source": [
    "iviris_df.count()"
   ]
  },
  {
   "cell_type": "code",
   "execution_count": 113,
   "id": "0a220719",
   "metadata": {},
   "outputs": [],
   "source": [
    "splits = iviris_df.randomSplit([0.6,0.4],1)\n",
    "train_df = splits[0]\n",
    "test_df = splits[1]"
   ]
  },
  {
   "cell_type": "code",
   "execution_count": 114,
   "id": "ca42b685",
   "metadata": {},
   "outputs": [
    {
     "name": "stdout",
     "output_type": "stream",
     "text": [
      "+------------+-----------+------------+-----------+---------------+-----------------+-----+\n",
      "|sepal_length|sepal_width|petal_length|petal_width|        species|         features|label|\n",
      "+------------+-----------+------------+-----------+---------------+-----------------+-----+\n",
      "|         4.4|        2.9|         1.4|        0.2|    Iris-setosa|[4.4,2.9,1.4,0.2]|  0.0|\n",
      "|         4.4|        3.0|         1.3|        0.2|    Iris-setosa|[4.4,3.0,1.3,0.2]|  0.0|\n",
      "|         4.4|        3.2|         1.3|        0.2|    Iris-setosa|[4.4,3.2,1.3,0.2]|  0.0|\n",
      "|         4.6|        3.2|         1.4|        0.2|    Iris-setosa|[4.6,3.2,1.4,0.2]|  0.0|\n",
      "|         4.6|        3.4|         1.4|        0.3|    Iris-setosa|[4.6,3.4,1.4,0.3]|  0.0|\n",
      "|         4.6|        3.6|         1.0|        0.2|    Iris-setosa|[4.6,3.6,1.0,0.2]|  0.0|\n",
      "|         4.7|        3.2|         1.6|        0.2|    Iris-setosa|[4.7,3.2,1.6,0.2]|  0.0|\n",
      "|         4.8|        3.0|         1.4|        0.1|    Iris-setosa|[4.8,3.0,1.4,0.1]|  0.0|\n",
      "|         4.8|        3.0|         1.4|        0.3|    Iris-setosa|[4.8,3.0,1.4,0.3]|  0.0|\n",
      "|         4.9|        3.0|         1.4|        0.2|    Iris-setosa|[4.9,3.0,1.4,0.2]|  0.0|\n",
      "|         4.9|        3.1|         1.5|        0.1|    Iris-setosa|[4.9,3.1,1.5,0.1]|  0.0|\n",
      "|         4.9|        3.1|         1.5|        0.1|    Iris-setosa|[4.9,3.1,1.5,0.1]|  0.0|\n",
      "|         4.9|        3.1|         1.5|        0.1|    Iris-setosa|[4.9,3.1,1.5,0.1]|  0.0|\n",
      "|         5.0|        2.0|         3.5|        1.0|Iris-versicolor|[5.0,2.0,3.5,1.0]|  1.0|\n",
      "|         5.0|        2.3|         3.3|        1.0|Iris-versicolor|[5.0,2.3,3.3,1.0]|  1.0|\n",
      "|         5.0|        3.0|         1.6|        0.2|    Iris-setosa|[5.0,3.0,1.6,0.2]|  0.0|\n",
      "|         5.0|        3.2|         1.2|        0.2|    Iris-setosa|[5.0,3.2,1.2,0.2]|  0.0|\n",
      "|         5.0|        3.3|         1.4|        0.2|    Iris-setosa|[5.0,3.3,1.4,0.2]|  0.0|\n",
      "|         5.0|        3.4|         1.5|        0.2|    Iris-setosa|[5.0,3.4,1.5,0.2]|  0.0|\n",
      "|         5.0|        3.4|         1.6|        0.4|    Iris-setosa|[5.0,3.4,1.6,0.4]|  0.0|\n",
      "+------------+-----------+------------+-----------+---------------+-----------------+-----+\n",
      "only showing top 20 rows\n",
      "\n"
     ]
    }
   ],
   "source": [
    "train_df.show()"
   ]
  },
  {
   "cell_type": "markdown",
   "id": "c59b500a",
   "metadata": {},
   "source": [
    "## Naive Based Classifier"
   ]
  },
  {
   "cell_type": "code",
   "execution_count": 115,
   "id": "0c4c5a87",
   "metadata": {},
   "outputs": [],
   "source": [
    "from pyspark.ml.classification import NaiveBayes"
   ]
  },
  {
   "cell_type": "code",
   "execution_count": 142,
   "id": "a13bfdaa",
   "metadata": {},
   "outputs": [],
   "source": [
    "nb = NaiveBayes(modelType = 'multinomial')\n",
    "\n",
    "nbmodel = nb.fit(train_df)"
   ]
  },
  {
   "cell_type": "code",
   "execution_count": 143,
   "id": "e6ea69b7",
   "metadata": {},
   "outputs": [],
   "source": [
    "pred_df = nbmodel.transform(test_df)"
   ]
  },
  {
   "cell_type": "code",
   "execution_count": 144,
   "id": "f1dc1182",
   "metadata": {},
   "outputs": [
    {
     "name": "stdout",
     "output_type": "stream",
     "text": [
      "+------------+-----------+------------+-----------+-----------+-----------------+-----+--------------------+--------------------+----------+\n",
      "|sepal_length|sepal_width|petal_length|petal_width|    species|         features|label|       rawPrediction|         probability|prediction|\n",
      "+------------+-----------+------------+-----------+-----------+-----------------+-----+--------------------+--------------------+----------+\n",
      "|         4.3|        3.0|         1.1|        0.1|Iris-setosa|[4.3,3.0,1.1,0.1]|  0.0|[-9.9894495209670...|[0.71183175063155...|       0.0|\n",
      "|         4.5|        2.3|         1.3|        0.3|Iris-setosa|[4.5,2.3,1.3,0.3]|  0.0|[-10.475670388034...|[0.52746779120113...|       0.0|\n",
      "|         4.6|        3.1|         1.5|        0.2|Iris-setosa|[4.6,3.1,1.5,0.2]|  0.0|[-11.445607205078...|[0.64305489612317...|       0.0|\n",
      "|         4.7|        3.2|         1.3|        0.2|Iris-setosa|[4.7,3.2,1.3,0.2]|  0.0|[-11.238029954327...|[0.69419834250896...|       0.0|\n",
      "|         4.8|        3.1|         1.6|        0.2|Iris-setosa|[4.8,3.1,1.6,0.2]|  0.0|[-11.781244140581...|[0.63481853440331...|       0.0|\n",
      "+------------+-----------+------------+-----------+-----------+-----------------+-----+--------------------+--------------------+----------+\n",
      "only showing top 5 rows\n",
      "\n"
     ]
    }
   ],
   "source": [
    "pred_df.show(5)"
   ]
  },
  {
   "cell_type": "code",
   "execution_count": 145,
   "id": "d5d36769",
   "metadata": {},
   "outputs": [],
   "source": [
    "from pyspark.ml.evaluation import MulticlassClassificationEvaluator\n",
    "\n",
    "nb_acc = MulticlassClassificationEvaluator(labelCol = 'label', predictionCol = 'prediction', metricName = 'accuracy').evaluate(pred_df)"
   ]
  },
  {
   "cell_type": "code",
   "execution_count": 146,
   "id": "e707ed5d",
   "metadata": {},
   "outputs": [
    {
     "data": {
      "text/plain": [
       "0.9807692307692307"
      ]
     },
     "execution_count": 146,
     "metadata": {},
     "output_type": "execute_result"
    }
   ],
   "source": [
    "nb_acc"
   ]
  },
  {
   "cell_type": "markdown",
   "id": "e784aed7",
   "metadata": {},
   "source": [
    "## Multilayer Perceptron Classification"
   ]
  },
  {
   "cell_type": "code",
   "execution_count": 147,
   "id": "8b703e47",
   "metadata": {},
   "outputs": [],
   "source": [
    "from pyspark.ml.classification import MultilayerPerceptronClassifier"
   ]
  },
  {
   "cell_type": "code",
   "execution_count": 148,
   "id": "7e1658b9",
   "metadata": {},
   "outputs": [],
   "source": [
    "mlp = MultilayerPerceptronClassifier(layers = [4, 5, 5, 3], seed = 1)\n",
    "mlp_model = mlp.fit(train_df)"
   ]
  },
  {
   "cell_type": "code",
   "execution_count": 149,
   "id": "5b6523ba",
   "metadata": {},
   "outputs": [],
   "source": [
    "mlp_pred = mlp_model.transform(test_df)"
   ]
  },
  {
   "cell_type": "code",
   "execution_count": 150,
   "id": "3825d0f6",
   "metadata": {},
   "outputs": [],
   "source": [
    "mlp_acc = MulticlassClassificationEvaluator(metricName = \"accuracy\").evaluate(mlp_pred)"
   ]
  },
  {
   "cell_type": "code",
   "execution_count": 151,
   "id": "270748dc",
   "metadata": {},
   "outputs": [
    {
     "data": {
      "text/plain": [
       "0.6923076923076923"
      ]
     },
     "execution_count": 151,
     "metadata": {},
     "output_type": "execute_result"
    }
   ],
   "source": [
    "mlp_acc"
   ]
  },
  {
   "cell_type": "markdown",
   "id": "ef41f842",
   "metadata": {},
   "source": [
    "## Decision Tree"
   ]
  },
  {
   "cell_type": "code",
   "execution_count": 152,
   "id": "03804eb6",
   "metadata": {},
   "outputs": [],
   "source": [
    "from pyspark.ml.classification import DecisionTreeClassifier"
   ]
  },
  {
   "cell_type": "code",
   "execution_count": 153,
   "id": "8db0512c",
   "metadata": {},
   "outputs": [],
   "source": [
    "dt = DecisionTreeClassifier(labelCol = 'label', featuresCol = 'features')\n",
    "dt_model = dt.fit(train_df)"
   ]
  },
  {
   "cell_type": "code",
   "execution_count": 154,
   "id": "1505a24f",
   "metadata": {},
   "outputs": [],
   "source": [
    "dt_pred = dt_model.transform(test_df)"
   ]
  },
  {
   "cell_type": "code",
   "execution_count": 155,
   "id": "9eea92ec",
   "metadata": {},
   "outputs": [],
   "source": [
    "dt_acc = MulticlassClassificationEvaluator(labelCol = 'label', predictionCol = 'prediction', metricName = 'accuracy').evaluate(dt_pred)"
   ]
  },
  {
   "cell_type": "code",
   "execution_count": 156,
   "id": "adb23d19",
   "metadata": {},
   "outputs": [
    {
     "data": {
      "text/plain": [
       "0.9423076923076923"
      ]
     },
     "execution_count": 156,
     "metadata": {},
     "output_type": "execute_result"
    }
   ],
   "source": [
    "dt_acc"
   ]
  },
  {
   "cell_type": "code",
   "execution_count": null,
   "id": "a35c44b7",
   "metadata": {},
   "outputs": [],
   "source": []
  }
 ],
 "metadata": {
  "kernelspec": {
   "display_name": "Python 3 (ipykernel)",
   "language": "python",
   "name": "python3"
  },
  "language_info": {
   "codemirror_mode": {
    "name": "ipython",
    "version": 3
   },
   "file_extension": ".py",
   "mimetype": "text/x-python",
   "name": "python",
   "nbconvert_exporter": "python",
   "pygments_lexer": "ipython3",
   "version": "3.8.10"
  }
 },
 "nbformat": 4,
 "nbformat_minor": 5
}
